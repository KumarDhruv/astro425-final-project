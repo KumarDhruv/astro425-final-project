{
 "cells": [
  {
   "cell_type": "code",
   "execution_count": 1,
   "metadata": {},
   "outputs": [],
   "source": [
    "import numpy as np\n",
    "from PIL import Image\n",
    "import astropy.units as u\n",
    "import astropy.constants as const\n",
    "import matplotlib.pyplot as plt\n",
    "from matplotlib.colors import LogNorm\n",
    "import importlib\n",
    "from datetime import datetime\n",
    "import os\n",
    "import lenser_v5 as lenser"
   ]
  },
  {
   "cell_type": "code",
   "execution_count": 46,
   "metadata": {},
   "outputs": [
    {
     "data": {
      "image/png": "[encoded data removed]",
      "text/plain": [
       "<Figure size 432x288 with 1 Axes>"
      ]
     },
     "metadata": {
      "needs_background": "light"
     },
     "output_type": "display_data"
    }
   ],
   "source": [
    "# the width of the image in pixels\n",
    "pixels = 500\n",
    "# the width of the image in arcseconds\n",
    "image_size = 40 * u.arcsec\n",
    "\n",
    "# a scale parameter used for conversion between pixels and arcseconds\n",
    "pixel_size = image_size / pixels\n",
    "\n",
    "# choose what image we want to lens, put it in a nice format, and display\n",
    "im = Image.open('./test_images/test_image_10.png').convert('RGB') #Opens a picture in grayscale\n",
    "im = im.resize((pixels,pixels))\n",
    "test_image = np.array(im)\n",
    "plt.imshow(test_image)\n",
    "im.close()"
   ]
  },
  {
   "cell_type": "code",
   "execution_count": 47,
   "metadata": {},
   "outputs": [
    {
     "data": {
      "text/plain": [
       "<module 'lenser_v5' from '/home/lars/Astro425-A20/Final_Project/lenser_v5.py'>"
      ]
     },
     "execution_count": 47,
     "metadata": {},
     "output_type": "execute_result"
    }
   ],
   "source": [
    "importlib.reload(lenser)"
   ]
  },
  {
   "cell_type": "code",
   "execution_count": null,
   "metadata": {},
   "outputs": [
    {
     "name": "stdout",
     "output_type": "stream",
     "text": [
      "now at j : 0\n",
      "now at j : 50\n"
     ]
    }
   ],
   "source": [
    "x = 0    # lens x location in arcseconds\n",
    "y = 0    # lens y location in arcseconds\n",
    "minimum_normalized_angle = 0.0\n",
    "\n",
    "test_lens = lenser.Lens(source_image=test_image,\n",
    "                        lens_x=x, lens_y=y,\n",
    "                        pixel_size=pixel_size,\n",
    "                        min_normalized_angle=minimum_normalized_angle)\n",
    "test_lens.deflect(method=2, verbosity=1)\n",
    "\n",
    "now = datetime.now()\n",
    "dt_string = now.strftime(\"%Y-%m-%d_%H-%M-%S\")\n",
    "np.save(\"./test_results/\"+dt_string+\".npy\", test_lens.result)"
   ]
  },
  {
   "cell_type": "code",
   "execution_count": null,
   "metadata": {},
   "outputs": [],
   "source": [
    "fig = test_lens.draw(do_circle=True, do_log_scale=True)\n",
    "\n",
    "now = datetime.now()\n",
    "dt_string = now.strftime(\"%Y-%m-%d_%H-%M-%S\")\n",
    "plt.savefig(\"./test_results/\" + dt_string + \".png\")"
   ]
  },
  {
   "cell_type": "code",
   "execution_count": null,
   "metadata": {},
   "outputs": [],
   "source": [
    "\n",
    "name = 'gif_6'\n",
    "direcory = './' + name + '/'\n",
    "\n",
    "frame_num = 0\n",
    "for loc in np.linspace(-20, 20, 80):\n",
    "    # make the frame name easily sortable for later\n",
    "    if (frame_num < 10):\n",
    "        frame_name = '0' + str(frame_num)\n",
    "    else:\n",
    "        frame_name = str(frame_num)\n",
    "\n",
    "    # process this frame\n",
    "    print(\"frame {0} at θ = {1} arcseconds\".format(frame_name, loc))\n",
    "    gif_lens = lenser.Lens(source_image=test_image,\n",
    "                           lensLoc=(loc, loc),\n",
    "                           pixel_size=pixel_size,\n",
    "                          min_normalized_angle=0.01)\n",
    "    gif_lens.deflect(method=2, verbosity=0)\n",
    "    fig = gif_lens.draw(do_circle=True, do_log_scale=False)\n",
    "    plt.savefig(directory + \"frame_\" + frame_name + \".jpg\")\n",
    "    plt.close()\n",
    "    fig = gif_lens.draw(do_circle=False, do_log_scale=False)\n",
    "    plt.savefig(directory + \"zframe_\" + frame_name + \".jpg\")\n",
    "    plt.close()\n",
    "    frame_num += 1\n",
    "    print(\"complete\")\n",
    "\n",
    "# go through each frame, make a list\n",
    "images = []\n",
    "files = os.listdir(directory)\n",
    "files.sort()\n",
    "for files in files:\n",
    "    if(file[0] != \"f\"):\n",
    "        continue\n",
    "    im = Image.open(directory + file)\n",
    "    images.append(im)\n",
    "\n",
    "# turn the list into a gif\n",
    "images[0].save('./' + name + '.gif',\n",
    "               save_all=True, append_images=images[1:],\n",
    "               optimize=False, duration=80, loop=0)\n"
   ]
  },
  {
   "cell_type": "code",
   "execution_count": null,
   "metadata": {},
   "outputs": [],
   "source": []
  }
 ],
 "metadata": {
  "kernelspec": {
   "display_name": "Python 3",
   "language": "python",
   "name": "python3"
  },
  "language_info": {
   "codemirror_mode": {
    "name": "ipython",
    "version": 3
   },
   "file_extension": ".py",
   "mimetype": "text/x-python",
   "name": "python",
   "nbconvert_exporter": "python",
   "pygments_lexer": "ipython3",
   "version": "3.7.5"
  }
 },
 "nbformat": 4,
 "nbformat_minor": 4
}
